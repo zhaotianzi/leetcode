{
 "cells": [
  {
   "cell_type": "markdown",
   "id": "f68fc81d",
   "metadata": {},
   "source": [
    "## set使用hash方式储存，list使用顺序储存所以在遍历时set是O(1),list是O(n)\n",
    "#### 参考1：[广度优先遍历：set集合的速度远远比list快：完全平方数](https://blog.csdn.net/caihuanqia/article/details/109563407)\n",
    "#### 参考2：[，set速度惊人](https://www.cnblogs.com/tintinsoft/articles/9743765.html)"
   ]
  },
  {
   "cell_type": "markdown",
   "id": "2f9e95af",
   "metadata": {},
   "source": [
    "### set效率"
   ]
  },
  {
   "cell_type": "code",
   "execution_count": 1,
   "id": "01425a10",
   "metadata": {},
   "outputs": [
    {
     "name": "stdout",
     "output_type": "stream",
     "text": [
      "1\n",
      "84\n",
      "1964\n",
      "5926\n",
      "3\n"
     ]
    },
    {
     "data": {
      "text/plain": [
       "0.10878968238830566"
      ]
     },
     "execution_count": 1,
     "metadata": {},
     "output_type": "execute_result"
    }
   ],
   "source": [
    "import time\n",
    "def numSquares(n: int) -> int:\n",
    "    nums = [i*i for i in range(1,n+1) if i**2<=n]\n",
    "    que = [n]\n",
    "    q2 = set()\n",
    "    result = -1\n",
    "    while que:\n",
    "        print(len(que))\n",
    "        result += 1\n",
    "        while que:\n",
    "\n",
    "            num = que.pop(0)\n",
    "            if num == 0:\n",
    "                return result \n",
    "            else:\n",
    "                i = 1\n",
    "                for j in nums:        \n",
    "                    if num-j not in q2 and j<=num:\n",
    "                        q2.add(num-j)\n",
    "        while q2:\n",
    "            que.append(q2.pop())\n",
    "    return -1\n",
    "\n",
    "s = time.time()\n",
    "print(numSquares(7169))\n",
    "time.time() - s"
   ]
  },
  {
   "cell_type": "markdown",
   "id": "01f7cc03",
   "metadata": {},
   "source": [
    "### list效率"
   ]
  },
  {
   "cell_type": "code",
   "execution_count": 2,
   "id": "49e65d3d",
   "metadata": {},
   "outputs": [
    {
     "name": "stdout",
     "output_type": "stream",
     "text": [
      "1\n",
      "84\n",
      "1964\n",
      "5926\n",
      "3\n"
     ]
    },
    {
     "data": {
      "text/plain": [
       "26.71283197402954"
      ]
     },
     "execution_count": 2,
     "metadata": {},
     "output_type": "execute_result"
    }
   ],
   "source": [
    "def numSquares2(n: int) -> int:\n",
    "    nums = [i*i for i in range(1,n+1) if i**2<=n]\n",
    "    que = [n]\n",
    "    q2 = []\n",
    "    result = -1\n",
    "    while que:\n",
    "        print(len(que))\n",
    "        result += 1\n",
    "        while que:\n",
    "\n",
    "            num = que.pop(0)\n",
    "            if num == 0:\n",
    "                return result \n",
    "            else:\n",
    "                i = 1\n",
    "                for j in nums:        \n",
    "                    if num-j not in q2 and j<=num:\n",
    "                        q2.append(num-j)\n",
    "        while q2:\n",
    "            que.append(q2.pop())\n",
    "    return -1\n",
    "\n",
    "s = time.time()\n",
    "print(numSquares2(7169))\n",
    "time.time() - s"
   ]
  },
  {
   "cell_type": "code",
   "execution_count": null,
   "id": "1485d744",
   "metadata": {},
   "outputs": [],
   "source": []
  }
 ],
 "metadata": {
  "kernelspec": {
   "display_name": "Python 3",
   "language": "python",
   "name": "python3"
  },
  "language_info": {
   "codemirror_mode": {
    "name": "ipython",
    "version": 3
   },
   "file_extension": ".py",
   "mimetype": "text/x-python",
   "name": "python",
   "nbconvert_exporter": "python",
   "pygments_lexer": "ipython3",
   "version": "3.8.5"
  }
 },
 "nbformat": 4,
 "nbformat_minor": 5
}
