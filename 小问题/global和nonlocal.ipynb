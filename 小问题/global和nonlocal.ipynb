{
 "cells": [
  {
   "cell_type": "markdown",
   "id": "5284354c",
   "metadata": {},
   "source": [
    "## global，nonlocal的会改变变量的作用域\n",
    "#### 参考[global、nonlocal对比](https://zhuanlan.zhihu.com/p/103502367)"
   ]
  },
  {
   "cell_type": "markdown",
   "id": "d908bfb2",
   "metadata": {},
   "source": [
    "### 注意点\n",
    "#### 1. 同一变量不能同时声明nonlocal和global\n",
    "#### 2. nonlocal不可用在最外层声明\n",
    "#### 3. global可以在变量定义前声明，nonlocal只能在变量定义后声明"
   ]
  },
  {
   "cell_type": "markdown",
   "id": "af0a05ba",
   "metadata": {},
   "source": [
    "### 普通变量作用域"
   ]
  },
  {
   "cell_type": "code",
   "execution_count": 1,
   "id": "b57b6caa",
   "metadata": {},
   "outputs": [
    {
     "name": "stdout",
     "output_type": "stream",
     "text": [
      "f3: 3\n",
      "inner: 2\n",
      "outer: 1\n",
      "global: 0\n"
     ]
    }
   ],
   "source": [
    "x = 0\n",
    "def outer():\n",
    "    \n",
    "    x = 1\n",
    "    def inner():\n",
    "        \n",
    "        x = 2\n",
    "        def f3():\n",
    "\n",
    "            x = 3\n",
    "            print('f3:',x)\n",
    "            \n",
    "        f3()\n",
    "        print(\"inner:\", x)\n",
    "\n",
    "    inner()\n",
    "    print(\"outer:\", x)\n",
    "\n",
    "outer()\n",
    "print(\"global:\", x)"
   ]
  },
  {
   "cell_type": "markdown",
   "id": "39474c39",
   "metadata": {},
   "source": [
    "### global: global 语句是一个声明，它适用于整个当前代码块(可以不提前赋值)"
   ]
  },
  {
   "cell_type": "code",
   "execution_count": 2,
   "id": "89fbfa93",
   "metadata": {},
   "outputs": [
    {
     "name": "stdout",
     "output_type": "stream",
     "text": [
      "f3: 3\n",
      "inner: 2\n",
      "outer: 1\n",
      "global: 2\n"
     ]
    }
   ],
   "source": [
    "# 可以看到在哪一层定义的global，就会将哪一层的x的作用域扩展到“最外层”的全局变量\n",
    "x = 0\n",
    "def outer():\n",
    "    \n",
    "    x = 1\n",
    "    def inner():\n",
    "        global x\n",
    "        x = 2\n",
    "        def f3():\n",
    "            \n",
    "            x = 3\n",
    "            print('f3:',x)\n",
    "            \n",
    "        f3()\n",
    "        print(\"inner:\", x)\n",
    "\n",
    "    inner()\n",
    "    print(\"outer:\", x)\n",
    "\n",
    "outer()\n",
    "print(\"global:\", x)"
   ]
  },
  {
   "cell_type": "markdown",
   "id": "2fbd11a9",
   "metadata": {},
   "source": [
    "### nonlocal: nonlocal 语句使列出的标识符引用除global变量外最近的封闭范围中的以前绑定的变量。"
   ]
  },
  {
   "cell_type": "code",
   "execution_count": 3,
   "id": "6d5a6d38",
   "metadata": {},
   "outputs": [
    {
     "name": "stdout",
     "output_type": "stream",
     "text": [
      "f3: 3\n",
      "inner: 3\n",
      "outer: 1\n",
      "global: 0\n"
     ]
    }
   ],
   "source": [
    "# 可以看到在哪一层定义的nonlocal，就会将哪一层的“上一层”扩展为新的作用域\n",
    "x = 0\n",
    "def outer():\n",
    "    \n",
    "    x = 1\n",
    "    def inner():\n",
    "        \n",
    "        x = 2\n",
    "        def f3():\n",
    "            nonlocal x\n",
    "            x = 3\n",
    "            print('f3:',x)\n",
    "            \n",
    "        f3()\n",
    "        print(\"inner:\", x)\n",
    "\n",
    "    inner()\n",
    "    print(\"outer:\", x)\n",
    "\n",
    "outer()\n",
    "print(\"global:\", x)"
   ]
  },
  {
   "cell_type": "code",
   "execution_count": null,
   "id": "5276ca5c",
   "metadata": {},
   "outputs": [],
   "source": []
  }
 ],
 "metadata": {
  "kernelspec": {
   "display_name": "Python 3",
   "language": "python",
   "name": "python3"
  },
  "language_info": {
   "codemirror_mode": {
    "name": "ipython",
    "version": 3
   },
   "file_extension": ".py",
   "mimetype": "text/x-python",
   "name": "python",
   "nbconvert_exporter": "python",
   "pygments_lexer": "ipython3",
   "version": "3.8.5"
  }
 },
 "nbformat": 4,
 "nbformat_minor": 5
}
